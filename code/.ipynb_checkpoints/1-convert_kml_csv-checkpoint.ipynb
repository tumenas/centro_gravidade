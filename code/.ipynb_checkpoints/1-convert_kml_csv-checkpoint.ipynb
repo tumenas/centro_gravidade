{
 "cells": [
  {
   "cell_type": "code",
   "execution_count": 7,
   "id": "ceeba140-e80b-4738-a803-7a2901fb2922",
   "metadata": {
    "tags": []
   },
   "outputs": [
    {
     "name": "stdout",
     "output_type": "stream",
     "text": [
      "                         Name  CodIBGE Categoria  Longitude   Latitude\n",
      "0             BARRA DO QUARAÍ  4301875    CIDADE -57.557060 -30.211075\n",
      "1                  URUGUAIANA  4322400    CIDADE -57.081825 -29.759823\n",
      "2                      QUARAÍ  4315305    CIDADE -56.453647 -30.382868\n",
      "3      SANT'ANA DO LIVRAMENTO  4317103    CIDADE -55.534814 -30.889384\n",
      "4                      ITAQUI  4310603    CIDADE -56.557133 -29.128637\n",
      "...                       ...      ...       ...        ...        ...\n",
      "21881               FORQUINHA  2305100       AUI -38.953809  -4.217207\n",
      "21882                 BANANAL  2305100       AUI -38.947822  -4.226515\n",
      "21883                 BATOQUE  2301000       AUI -38.235785  -3.997774\n",
      "21884      BARRA DA SUCATINGA  2302206       AUI -38.009612  -4.253306\n",
      "21885                   URUAÚ  2302206       AUI -38.045168  -4.221992\n",
      "\n",
      "[21886 rows x 5 columns]\n"
     ]
    }
   ],
   "source": [
    "from pykml import parser\n",
    "import pandas as pd\n",
    "\n",
    "def kml_to_dataframe(kml_file):\n",
    "    with open(kml_file, 'r',  encoding=\"utf8\") as f:\n",
    "        doc = parser.parse(f).getroot().Document\n",
    "\n",
    "        placemarks = doc.findall('.//{http://www.opengis.net/kml/2.2}Placemark')\n",
    "        data = []\n",
    "\n",
    "        for placemark in placemarks:\n",
    "            coordinates = placemark.Point.coordinates.text.strip().split(',')\n",
    "            name = placemark.name.text.strip()\n",
    "            code = ''\n",
    "            for item in placemark.ExtendedData.SchemaData.SimpleData:\n",
    "                if item.get(\"name\") == \"CD_GEOCODMU\":\n",
    "                    code = item.text\n",
    "                    \n",
    "            categoria=''\n",
    "            for item in placemark.ExtendedData.SchemaData.SimpleData:\n",
    "                if item.get(\"name\") == \"NM_CATEGORIA\":\n",
    "                    categoria = item.text\n",
    "            \n",
    "            data.append([name, code, categoria, float(coordinates[0]), float(coordinates[1])])\n",
    "\n",
    "        df = pd.DataFrame(data, columns=['Name', 'CodIBGE', 'Categoria', 'Longitude', 'Latitude'])\n",
    "        return df\n",
    "\n",
    "# Usage example\n",
    "# Origem : https://geoftp.ibge.gov.br/organizacao_do_territorio/estrutura_territorial/localidades/Google_KML/BR_Localidades_2010_v1.kml\n",
    "\n",
    "kml_file = r'C:\\Users\\tumen\\OneDrive\\Felipe\\3-Artigos\\centro_gravidade\\data/BR_Localidades_2010_v1.kml'\n",
    "df = kml_to_dataframe(kml_file)\n",
    "print(df)"
   ]
  },
  {
   "cell_type": "code",
   "execution_count": 9,
   "id": "c9adf11b-c9a2-4d78-a35f-1cb07841f507",
   "metadata": {},
   "outputs": [],
   "source": [
    "# Salvar arquivo\n",
    "\n",
    "df.to_csv('C:/Users/tumen/OneDrive/Felipe/3-Artigos/centro_gravidade/data/latlong.csv',sep = ';', index = False)"
   ]
  }
 ],
 "metadata": {
  "kernelspec": {
   "display_name": "Python 3 (ipykernel)",
   "language": "python",
   "name": "python3"
  },
  "language_info": {
   "codemirror_mode": {
    "name": "ipython",
    "version": 3
   },
   "file_extension": ".py",
   "mimetype": "text/x-python",
   "name": "python",
   "nbconvert_exporter": "python",
   "pygments_lexer": "ipython3",
   "version": "3.11.5"
  }
 },
 "nbformat": 4,
 "nbformat_minor": 5
}
